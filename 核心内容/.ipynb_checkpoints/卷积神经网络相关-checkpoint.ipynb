{
 "cells": [
  {
   "cell_type": "markdown",
   "id": "5c368ea3-1d0b-4944-b6d2-fd0210f791e4",
   "metadata": {},
   "source": [
    "# 图像卷积"
   ]
  },
  {
   "cell_type": "markdown",
   "id": "811a60d0-ded7-4984-89ba-af658cc239bf",
   "metadata": {},
   "source": [
    "## 互相关运算"
   ]
  },
  {
   "cell_type": "code",
   "execution_count": 1,
   "id": "0c465e7c-967a-45b5-8446-eec6519f837e",
   "metadata": {},
   "outputs": [],
   "source": [
    "import torch\n",
    "from torch import nn\n",
    "from d2l import torch as d2l"
   ]
  },
  {
   "cell_type": "code",
   "execution_count": 2,
   "id": "c571d24c-999b-41b0-afe6-fb008c2eb3df",
   "metadata": {},
   "outputs": [],
   "source": [
    "def corr2d(X, K): #@save\n",
    "    \"\"\"计算二维互相关运算\"\"\"\n",
    "    h, w = K.shape\n",
    "    Y = torch.zeros((X.shape[0] - h + 1, X.shape[1] - w + 1))\n",
    "    for i in range(Y.shape[0]):\n",
    "        for j in range(Y.shape[1]):\n",
    "            Y[i, j] = (X[i:i + h, j:j + w] * K).sum()\n",
    "    return Y"
   ]
  },
  {
   "cell_type": "code",
   "execution_count": 3,
   "id": "06a36162-ca98-4be1-aa67-632d41ac123e",
   "metadata": {},
   "outputs": [
    {
     "data": {
      "text/plain": [
       "tensor([[19., 25.],\n",
       "        [37., 43.]])"
      ]
     },
     "execution_count": 3,
     "metadata": {},
     "output_type": "execute_result"
    }
   ],
   "source": [
    "X = torch.tensor([[0.0, 1.0, 2.0], [3.0, 4.0, 5.0], [6.0, 7.0, 8.0]])\n",
    "K = torch.tensor([[0.0, 1.0], [2.0, 3.0]])\n",
    "corr2d(X, K)"
   ]
  },
  {
   "cell_type": "markdown",
   "id": "edaaedae-5338-459f-98d1-401c1d02da94",
   "metadata": {},
   "source": [
    "## 卷积层"
   ]
  },
  {
   "cell_type": "markdown",
   "id": "1f6ab752-20a1-4a06-970e-980c8131c4b1",
   "metadata": {},
   "source": [
    "卷积层对输入和卷积核权重进行互相关运算，并在添加标量偏置之后产生输出。所以，卷积层中的两个被训\n",
    "练的参数是卷积核权重和标量偏置。就像我们之前随机初始化全连接层一样，在训练基于卷积层的模型时，\n",
    "我们也随机初始化卷积核权重。"
   ]
  },
  {
   "cell_type": "markdown",
   "id": "28ffff9b-c866-4626-89e1-18a191b1131e",
   "metadata": {},
   "source": [
    "基于上面定义的corr2d函数实现二维卷积层。在__init__构造函数中，将weight和bias声明为两个模型参数。\n",
    "前向传播函数调用corr2d函数并添加偏置。"
   ]
  },
  {
   "cell_type": "code",
   "execution_count": 4,
   "id": "04348045-9983-4763-9cfc-9eeef3eb19a1",
   "metadata": {},
   "outputs": [],
   "source": [
    "class Conv2D(nn.Module):\n",
    "    def __init__(self, kernel_size):\n",
    "        super().__init__()\n",
    "        self.weight = nn.Parameter(torch.rand(kernel_size))\n",
    "        self.bias = nn.Parameter(torch.zeros(1))\n",
    "        \n",
    "    def forward(self, x):\n",
    "        return corr2d(x, self.weight) + self.bias"
   ]
  },
  {
   "cell_type": "markdown",
   "id": "4020f160-94ed-49de-8983-8b3625a4cad4",
   "metadata": {},
   "source": [
    "高度和宽度分别为$h$和$w$的卷积核可以被称为 $ h × w $ 卷积或$h × w$卷积核。我们也将带有$h × w$卷积核的卷积层称为$h × w$卷积层。"
   ]
  },
  {
   "cell_type": "markdown",
   "id": "279e0c25-dfce-4b6b-8d14-5a35e5bff74d",
   "metadata": {},
   "source": [
    "##  图像中目标的边缘检测"
   ]
  },
  {
   "cell_type": "markdown",
   "id": "00c7a8be-008e-4228-a0da-4f364bc22f78",
   "metadata": {},
   "source": [
    "卷积层的一个简单应用就是通过找到像素变化的位置，来检测图像中不同颜色的边缘。首先，我们构造\n",
    "一个6 × 8像素的黑白图像。中间四列为黑色（0），其余像素为白色（1）。"
   ]
  },
  {
   "cell_type": "code",
   "execution_count": 7,
   "id": "c2dffa4f-d96a-4417-8b2e-b3e763bd823d",
   "metadata": {},
   "outputs": [
    {
     "data": {
      "text/plain": [
       "tensor([[1., 1., 0., 0., 0., 0., 1., 1.],\n",
       "        [1., 1., 0., 0., 0., 0., 1., 1.],\n",
       "        [1., 1., 0., 0., 0., 0., 1., 1.],\n",
       "        [1., 1., 0., 0., 0., 0., 1., 1.],\n",
       "        [1., 1., 0., 0., 0., 0., 1., 1.],\n",
       "        [1., 1., 0., 0., 0., 0., 1., 1.]])"
      ]
     },
     "execution_count": 7,
     "metadata": {},
     "output_type": "execute_result"
    }
   ],
   "source": [
    "X = torch.ones((6, 8))\n",
    "X[:, 2:6] = 0\n",
    "X"
   ]
  },
  {
   "cell_type": "markdown",
   "id": "fcb4706c-7292-4b39-974d-84eac60366ce",
   "metadata": {},
   "source": [
    "接下来，我们构造一个高度为1、宽度为2的卷积核K。当进行互相关运算时，如果水平相邻的两元素相同，则\n",
    "输出为零，否则输出为非零。"
   ]
  },
  {
   "cell_type": "code",
   "execution_count": 8,
   "id": "11dd00ad-9e18-4b4a-a11a-53dae24b1ca6",
   "metadata": {},
   "outputs": [],
   "source": [
    "K = torch.tensor([[1.0, -1.0]])"
   ]
  },
  {
   "cell_type": "markdown",
   "id": "c5b0f7ff-1cae-4f52-8999-dff51423aecf",
   "metadata": {},
   "source": [
    "现在，我们对参数X（输入）和K（卷积核）执行互相关运算。如下所示，输出Y中的1代表从白色到黑色的边\n",
    "缘，‐1代表从黑色到白色的边缘，其他情况的输出为0。"
   ]
  },
  {
   "cell_type": "code",
   "execution_count": 9,
   "id": "8e747c3a-d449-4e13-a35e-628f8f3e136f",
   "metadata": {},
   "outputs": [
    {
     "data": {
      "text/plain": [
       "tensor([[ 0.,  1.,  0.,  0.,  0., -1.,  0.],\n",
       "        [ 0.,  1.,  0.,  0.,  0., -1.,  0.],\n",
       "        [ 0.,  1.,  0.,  0.,  0., -1.,  0.],\n",
       "        [ 0.,  1.,  0.,  0.,  0., -1.,  0.],\n",
       "        [ 0.,  1.,  0.,  0.,  0., -1.,  0.],\n",
       "        [ 0.,  1.,  0.,  0.,  0., -1.,  0.]])"
      ]
     },
     "execution_count": 9,
     "metadata": {},
     "output_type": "execute_result"
    }
   ],
   "source": [
    "Y = corr2d(X, K)\n",
    "Y"
   ]
  },
  {
   "cell_type": "markdown",
   "id": "841ce019-c45a-4a81-a27e-5b3736623170",
   "metadata": {},
   "source": [
    "现在我们将输入的二维图像转置，再进行如上的互相关运算。其输出如下，之前检测到的垂直边缘消失了。\n",
    "不出所料，这个卷积核K只可以检测垂直边缘，无法检测水平边缘。"
   ]
  },
  {
   "cell_type": "markdown",
   "id": "2a9ec5d8-e175-4ac4-90db-1754f447bec6",
   "metadata": {},
   "source": [
    "现在我们将输入的二维图像转置，再进行如上的互相关运算。其输出如下，之前检测到的垂直边缘消失了。\n",
    "不出所料，这个卷积核K只可以检测垂直边缘，无法检测水平边缘。"
   ]
  },
  {
   "cell_type": "code",
   "execution_count": 11,
   "id": "0cc2eedf-bb9a-4b67-af81-7b6d78f336e0",
   "metadata": {},
   "outputs": [
    {
     "data": {
      "text/plain": [
       "tensor([[0., 0., 0., 0., 0.],\n",
       "        [0., 0., 0., 0., 0.],\n",
       "        [0., 0., 0., 0., 0.],\n",
       "        [0., 0., 0., 0., 0.],\n",
       "        [0., 0., 0., 0., 0.],\n",
       "        [0., 0., 0., 0., 0.],\n",
       "        [0., 0., 0., 0., 0.],\n",
       "        [0., 0., 0., 0., 0.]])"
      ]
     },
     "execution_count": 11,
     "metadata": {},
     "output_type": "execute_result"
    }
   ],
   "source": [
    "corr2d(X.t(), K)"
   ]
  },
  {
   "cell_type": "markdown",
   "id": "82988e92-5b4f-4e8f-8c09-e738cd77b6ce",
   "metadata": {},
   "source": [
    "## 学习卷积核"
   ]
  },
  {
   "cell_type": "markdown",
   "id": "6bb70f3e-4482-415d-adcf-06b4ac4a4b6d",
   "metadata": {},
   "source": [
    "如果我们只需寻找黑白边缘，那么以上[1, -1]的边缘检测器足以。然而，当有了更复杂数值的卷积核，或者\n",
    "连续的卷积层时，我们不可能手动设计滤波器。那么我们是否可以学习由X生成Y的卷积核呢？"
   ]
  },
  {
   "cell_type": "markdown",
   "id": "b69c50a8-c5d5-410c-8435-716d94742c85",
   "metadata": {},
   "source": [
    "现在让我们看看是否可以通过仅查看“输入‐输出”对来学习由X生成Y的卷积核。我们先构造一个卷积层，并\n",
    "将其卷积核初始化为随机张量。接下来，在每次迭代中，我们比较Y与卷积层输出的平方误差，然后计算梯度\n",
    "来更新卷积核。为了简单起见，我们在此使用内置的二维卷积层，并忽略偏置。"
   ]
  },
  {
   "cell_type": "code",
   "execution_count": 14,
   "id": "25a6a03b-8734-4a46-88cd-bba97b2f8076",
   "metadata": {},
   "outputs": [
    {
     "name": "stdout",
     "output_type": "stream",
     "text": [
      "tensor([[[[1., 1., 0., 0., 0., 0., 1., 1.],\n",
      "          [1., 1., 0., 0., 0., 0., 1., 1.],\n",
      "          [1., 1., 0., 0., 0., 0., 1., 1.],\n",
      "          [1., 1., 0., 0., 0., 0., 1., 1.],\n",
      "          [1., 1., 0., 0., 0., 0., 1., 1.],\n",
      "          [1., 1., 0., 0., 0., 0., 1., 1.]]]])\n",
      "tensor([[[[ 0.,  1.,  0.,  0.,  0., -1.,  0.],\n",
      "          [ 0.,  1.,  0.,  0.,  0., -1.,  0.],\n",
      "          [ 0.,  1.,  0.,  0.,  0., -1.,  0.],\n",
      "          [ 0.,  1.,  0.,  0.,  0., -1.,  0.],\n",
      "          [ 0.,  1.,  0.,  0.,  0., -1.,  0.],\n",
      "          [ 0.,  1.,  0.,  0.,  0., -1.,  0.]]]])\n",
      "epoch 2, loss 2.517\n",
      "epoch 4, loss 0.426\n",
      "epoch 6, loss 0.073\n",
      "epoch 8, loss 0.013\n",
      "epoch 10, loss 0.002\n"
     ]
    }
   ],
   "source": [
    "# 构造一个二维卷积层，具有 1 个输入通道、1 个输出通道，卷积核形状为 (1, 2)，且不使用偏置项\n",
    "conv2d = nn.Conv2d(1, 1, kernel_size=(1, 2), bias=False)\n",
    "\n",
    "# 将输入 X 和输出 Y 调整为四维张量，形状为 (批量大小, 通道数, 高度, 宽度)\n",
    "# 这里批量大小和通道数都为 1\n",
    "X = X.reshape((1, 1, 6, 8))  # 输入形状为 (1, 1, 6, 8)\n",
    "print(X)\n",
    "Y = Y.reshape((1, 1, 6, 7))  # 输出形状为 (1, 1, 6, 7)\n",
    "print(Y)\n",
    "\n",
    "# 设置学习率\n",
    "lr = 3e-2  # 学习率为 0.03\n",
    "\n",
    "# 训练循环，共迭代 10 次\n",
    "for i in range(10):\n",
    "    # 前向传播：通过卷积层计算预测值 Y_hat\n",
    "    Y_hat = conv2d(X)\n",
    "    \n",
    "    # 计算损失：使用均方误差（MSE）作为损失函数\n",
    "    l = (Y_hat - Y) ** 2\n",
    "    \n",
    "    # 清空卷积核的梯度，避免梯度累积\n",
    "    conv2d.zero_grad()\n",
    "    \n",
    "    # 反向传播：计算损失关于卷积核权重的梯度\n",
    "    l.sum().backward()\n",
    "    \n",
    "    # 更新卷积核权重：使用梯度下降法\n",
    "    conv2d.weight.data[:] -= lr * conv2d.weight.grad\n",
    "    \n",
    "    # 每 2 次迭代打印一次损失值\n",
    "    if (i + 1) % 2 == 0:\n",
    "        print(f'epoch {i+1}, loss {l.sum():.3f}')"
   ]
  },
  {
   "cell_type": "markdown",
   "id": "2482ca2d-f527-4670-88c4-931cdec4b75c",
   "metadata": {},
   "source": [
    "在10次迭代之后，误差已经降到足够低。现在我们来看看我们所学的卷积核的权重张量"
   ]
  },
  {
   "cell_type": "code",
   "execution_count": 15,
   "id": "9190df88-20ca-4b50-aae9-8056bf0df78d",
   "metadata": {},
   "outputs": [
    {
     "data": {
      "text/plain": [
       "tensor([[ 0.9897, -0.9938]])"
      ]
     },
     "execution_count": 15,
     "metadata": {},
     "output_type": "execute_result"
    }
   ],
   "source": [
    "conv2d.weight.data.reshape((1, 2))"
   ]
  },
  {
   "cell_type": "markdown",
   "id": "87dbca11-e67e-46b2-8594-2d4db86ff3bd",
   "metadata": {},
   "source": [
    "这里的学习到的卷积核权重非常接近我们之前定义的卷积核K。"
   ]
  },
  {
   "cell_type": "markdown",
   "id": "62dbf558-a79d-4a3d-8857-8ccf48bd8676",
   "metadata": {},
   "source": [
    "# 填充和步幅"
   ]
  },
  {
   "cell_type": "markdown",
   "id": "69a75caf-2e72-4876-bcd8-aaa62861d9b3",
   "metadata": {},
   "source": [
    "## 填充"
   ]
  },
  {
   "cell_type": "markdown",
   "id": "f88ce95e-488e-4204-8b09-b9c0d0005fa9",
   "metadata": {},
   "source": [
    "在应用多层卷积时，我们常常丢失边缘像素。由于我们通常使用小卷积核，因此对于任何单个卷积，我们可能只会丢失几个像素。但随着我们应用许多连续卷积层，累积丢失的像素数就多了。解决这个问题的简单方法即为填充（padding）：在输入图像的边界填充元素（通常填充元素是0）。\n",
    "\n",
    "填充的主要目的是解决卷积操作中可能出现的两个问题：\n",
    "1. 输出尺寸缩小：卷积操作会导致输出特征图的尺寸比输入尺寸小。\n",
    "2. 边缘信息丢失：输入数据的边缘像素在卷积操作中参与计算的次数较少，可能导致边缘信息丢失。"
   ]
  },
  {
   "cell_type": "markdown",
   "id": "e3b0d144-8cb4-4f0b-9bd5-c45be5015130",
   "metadata": {},
   "source": [
    "我们创建一个高度和宽度为3的二维卷积层，并在所有侧边填充1个像素。给定高度和宽度为8的输入，则输出的高度和宽度也是8。"
   ]
  },
  {
   "cell_type": "code",
   "execution_count": 18,
   "id": "837bdec8-6d2c-447a-bc85-38fbd812f072",
   "metadata": {},
   "outputs": [
    {
     "data": {
      "text/plain": [
       "torch.Size([8, 8])"
      ]
     },
     "execution_count": 18,
     "metadata": {},
     "output_type": "execute_result"
    }
   ],
   "source": [
    "import torch\n",
    "from torch import nn\n",
    "\n",
    "# 为了方便起见，我们定义了一个计算卷积层的函数。\n",
    "# 此函数初始化卷积层权重，并对输入和输出提高和缩减相应的维数\n",
    "def comp_conv2d(conv2d, X):\n",
    "    # 这里的（1，1）表示批量大小和通道数都是1\n",
    "    X = X.reshape((1, 1) + X.shape)\n",
    "    Y = conv2d(X)\n",
    "    # 省略前两个维度：批量大小和通道\n",
    "    return Y.reshape(Y.shape[2:])\n",
    "\n",
    "    \n",
    "# 请注意，这里每边都填充了1行或1列，因此总共添加了2行或2列\n",
    "conv2d = nn.Conv2d(1, 1, kernel_size=3, padding=1)\n",
    "\n",
    "X = torch.rand(size=(8, 8))\n",
    "comp_conv2d(conv2d, X).shape"
   ]
  },
  {
   "cell_type": "markdown",
   "id": "3db09962-f1b2-4903-8e35-e6a13df92712",
   "metadata": {},
   "source": [
    "当卷积核的高度和宽度不同时，我们可以填充不同的高度和宽度，使输出和输入具有相同的高度和宽度。在\n",
    "如下示例中，我们使用高度为5，宽度为3的卷积核，高度和宽度两边的填充分别为2和1。"
   ]
  },
  {
   "cell_type": "code",
   "execution_count": 19,
   "id": "92e353d6-083b-477c-a37b-fe5e597db2f5",
   "metadata": {},
   "outputs": [
    {
     "data": {
      "text/plain": [
       "torch.Size([8, 8])"
      ]
     },
     "execution_count": 19,
     "metadata": {},
     "output_type": "execute_result"
    }
   ],
   "source": [
    "conv2d = nn.Conv2d(1, 1, kernel_size=(5, 3), padding=(2, 1))\n",
    "comp_conv2d(conv2d, X).shape"
   ]
  },
  {
   "cell_type": "markdown",
   "id": "6caa13d8-ebdc-4a9d-9493-f8bebd76ec8b",
   "metadata": {},
   "source": [
    "## 步幅"
   ]
  },
  {
   "cell_type": "markdown",
   "id": "7d35682e-ec75-48c1-bd2b-d16313d7224b",
   "metadata": {},
   "source": [
    "主要的作用可以包括为：\n",
    "1. 控制输出尺寸：通过调整步幅，可以灵活控制输出特征图的尺寸。\n",
    "2. 降低计算复杂度：较大的步幅可以减少计算量，提高计算效率。\n",
    "3. 提取高层次特征：较大的步幅可以扩大感受野，捕捉更大范围的特征。\n",
    "4. 减少过拟合：较大的步幅可以减少参数数量，降低过拟合风险。"
   ]
  },
  {
   "cell_type": "markdown",
   "id": "cfbee437-c835-4ba3-984e-1eda3c186609",
   "metadata": {},
   "source": [
    "下面，我们将高度和宽度的步幅设置为2，从而将输入的高度和宽度减半。"
   ]
  },
  {
   "cell_type": "code",
   "execution_count": 20,
   "id": "1438ef9d-faff-47fb-bc85-c3af64cbf9f9",
   "metadata": {},
   "outputs": [
    {
     "data": {
      "text/plain": [
       "torch.Size([4, 4])"
      ]
     },
     "execution_count": 20,
     "metadata": {},
     "output_type": "execute_result"
    }
   ],
   "source": [
    "conv2d = nn.Conv2d(1, 1, kernel_size=3, padding=1, stride=2)\n",
    "comp_conv2d(conv2d, X).shape"
   ]
  },
  {
   "cell_type": "markdown",
   "id": "0a171113-c44b-4817-901f-d60937196023",
   "metadata": {},
   "source": [
    "接下来，看一个稍微复杂的例子。"
   ]
  },
  {
   "cell_type": "code",
   "execution_count": 21,
   "id": "37e4f94f-bad3-43ea-81a5-98d2996b80d5",
   "metadata": {},
   "outputs": [
    {
     "data": {
      "text/plain": [
       "torch.Size([2, 2])"
      ]
     },
     "execution_count": 21,
     "metadata": {},
     "output_type": "execute_result"
    }
   ],
   "source": [
    "conv2d = nn.Conv2d(1, 1, kernel_size=(3, 5), padding=(0, 1), stride=(3, 4))\n",
    "comp_conv2d(conv2d, X).shape"
   ]
  },
  {
   "cell_type": "markdown",
   "id": "222fae64-0a7b-4b54-8a6c-1be52192aa3f",
   "metadata": {},
   "source": [
    "# 多输入多输出通道"
   ]
  },
  {
   "cell_type": "markdown",
   "id": "e91e38df-283c-40b0-9da7-4a466030ce82",
   "metadata": {},
   "source": [
    "## 多输入通道"
   ]
  },
  {
   "cell_type": "markdown",
   "id": "22d2c0d7-9ccc-439a-bf4f-915a3d94363c",
   "metadata": {},
   "source": [
    "现在实现一下多输入通道互相关运算。简而言之，我们所做的就是对每个通道执行互相关操\n",
    "作，然后将结果相加。"
   ]
  },
  {
   "cell_type": "code",
   "execution_count": 22,
   "id": "028191d0-1070-463f-8386-6e3f96308033",
   "metadata": {},
   "outputs": [],
   "source": [
    "import torch\n",
    "from d2l import torch as d2l\n",
    "\n",
    "def corr2d_multi_in(X, K):\n",
    "    # 先遍历“X”和“K”的第0个维度（通道维度），再把它们加在一起\n",
    "    return sum(d2l.corr2d(x, k) for x, k in zip(X, K))"
   ]
  },
  {
   "cell_type": "code",
   "execution_count": null,
   "id": "c9188ba2-aeb0-4706-b55f-255e7b84ee73",
   "metadata": {},
   "outputs": [],
   "source": [
    "X = torch.tensor([[[0.0, 1.0, 2.0], [3.0, 4.0, 5.0], [6.0, 7.0, 8.0]],\n",
    "                [[1.0, 2.0, 3.0], [4.0, 5.0, 6.0], [7.0, 8.0, 9.0]]])\n",
    "\n",
    "K = torch.tensor([[[0.0, 1.0], [2.0, 3.0]], [[1.0, 2.0], [3.0, 4.0]]])\n",
    "\n",
    "corr2d_multi_in(X, K)"
   ]
  },
  {
   "cell_type": "markdown",
   "id": "ff3e759b-2d21-4649-91ac-90c1573be7b6",
   "metadata": {},
   "source": [
    "## 多输出通道"
   ]
  },
  {
   "cell_type": "markdown",
   "id": "cba86af2-17dc-4d0c-9176-f98dc68b74f8",
   "metadata": {},
   "source": [
    "在最流行的神经网络架构中，随着神经网络层数的加深，我们常会增加输出通道的维数，通过减少空间分辨率以获得更大的通道深度。直观地说，我们可以将每个通道看作对不同特征的响应。而现实可能更为复杂一些，因为每个通道不是独立学习的，而是为了共同使用而优化的。因此，多输出通道并不仅是学习多个单通道的检测器。"
   ]
  },
  {
   "cell_type": "code",
   "execution_count": 24,
   "id": "9c8ecebb-588f-4859-ae09-5b747417d78a",
   "metadata": {},
   "outputs": [],
   "source": [
    "def corr2d_multi_in_out(X, K):\n",
    "    # 迭代“K”的第0个维度，每次都对输入“X”执行互相关运算。\n",
    "    # 最后将所有结果都叠加在一起\n",
    "    return torch.stack([corr2d_multi_in(X, k) for k in K], 0)"
   ]
  },
  {
   "cell_type": "markdown",
   "id": "6e38ab66-8a94-4362-b828-c5f814bedb59",
   "metadata": {},
   "source": [
    "通过将核张量K与K+1（K中每个元素加1）和K+2连接起来，构造了一个具有3个输出通道的卷积核。"
   ]
  },
  {
   "cell_type": "code",
   "execution_count": 25,
   "id": "713991c0-2977-456d-bd39-41047cf60d5d",
   "metadata": {},
   "outputs": [
    {
     "data": {
      "text/plain": [
       "torch.Size([3, 2, 2, 2])"
      ]
     },
     "execution_count": 25,
     "metadata": {},
     "output_type": "execute_result"
    }
   ],
   "source": [
    "K = torch.stack((K, K + 1, K + 2), 0)\n",
    "K.shape"
   ]
  },
  {
   "cell_type": "markdown",
   "id": "06f3c398-cf24-4897-9ccd-e6454b436209",
   "metadata": {},
   "source": [
    "下面，我们对输入张量X与卷积核张量K执行互相关运算。现在的输出包含3个通道，第一个通道的结果与先前\n",
    "输入张量X和多输入单输出通道的结果一致。"
   ]
  },
  {
   "cell_type": "code",
   "execution_count": 26,
   "id": "bcb281a6-2b4f-497b-88c0-730f5c48fb2a",
   "metadata": {},
   "outputs": [
    {
     "data": {
      "text/plain": [
       "tensor([[[ 56.,  72.],\n",
       "         [104., 120.]],\n",
       "\n",
       "        [[ 76., 100.],\n",
       "         [148., 172.]],\n",
       "\n",
       "        [[ 96., 128.],\n",
       "         [192., 224.]]])"
      ]
     },
     "execution_count": 26,
     "metadata": {},
     "output_type": "execute_result"
    }
   ],
   "source": [
    "corr2d_multi_in_out(X, K)"
   ]
  },
  {
   "cell_type": "markdown",
   "id": "3b227ae4-6fcb-4358-9bcb-9900db9207ca",
   "metadata": {},
   "source": [
    "## $1×1$卷积层"
   ]
  },
  {
   "cell_type": "code",
   "execution_count": 27,
   "id": "192148b6-866e-420f-8214-bd3dbfb273d8",
   "metadata": {},
   "outputs": [],
   "source": [
    "def corr2d_multi_in_out_1x1(X, K):\n",
    "    c_i, h, w = X.shape\n",
    "    c_o = K.shape[0]\n",
    "    X = X.reshape((c_i, h * w))\n",
    "    K = K.reshape((c_o, c_i))\n",
    "    # 全连接层中的矩阵乘法\n",
    "    Y = torch.matmul(K, X)\n",
    "    return Y.reshape((c_o, h, w))"
   ]
  },
  {
   "cell_type": "markdown",
   "id": "d906a5f4-2598-4371-bc15-e581c648cefe",
   "metadata": {},
   "source": [
    "当执行1 × 1卷积运算时，上述函数相当于先前实现的互相关函数corr2d_multi_in_out。让我们用一些样本\n",
    "数据来验证这一点。"
   ]
  },
  {
   "cell_type": "code",
   "execution_count": 28,
   "id": "7869f86d-8120-4100-8ac0-5253120a9f28",
   "metadata": {},
   "outputs": [],
   "source": [
    "X = torch.normal(0, 1, (3, 3, 3))\n",
    "K = torch.normal(0, 1, (2, 3, 1, 1))"
   ]
  },
  {
   "cell_type": "code",
   "execution_count": 29,
   "id": "3d24e04e-e0e6-4b20-970f-92cf63479fc8",
   "metadata": {},
   "outputs": [],
   "source": [
    "Y1 = corr2d_multi_in_out_1x1(X, K)\n",
    "Y2 = corr2d_multi_in_out(X, K)\n",
    "assert float(torch.abs(Y1 - Y2).sum()) < 1e-6"
   ]
  },
  {
   "cell_type": "markdown",
   "id": "ff80e52b-3234-4c43-ba95-1c44c04911b4",
   "metadata": {},
   "source": [
    "# 汇聚层（池化层）"
   ]
  },
  {
   "cell_type": "markdown",
   "id": "1d3b9461-eb92-4897-8484-ad79cb2e3aa6",
   "metadata": {},
   "source": [
    "与卷积层类似，汇聚层运算符由一个固定形状的窗口组成，该窗口根据其步幅大小在输入的所有区域上滑动，\n",
    "为固定形状窗口（有时称为汇聚窗口）遍历的每个位置计算一个输出。然而，不同于卷积层中的输入与卷积\n",
    "核之间的互相关计算，汇聚层不包含参数。相反，池运算是确定性的，我们通常计算汇聚窗口中所有元素的\n",
    "最大值或平均值。这些操作分别称为最大汇聚层（maximum pooling）和平均汇聚层（average pooling）。"
   ]
  },
  {
   "cell_type": "markdown",
   "id": "48607c49-2148-44f4-9145-46f54bc1e975",
   "metadata": {},
   "source": [
    "在这两种情况下，与互相关运算符一样，汇聚窗口从输入张量的左上角开始，从左往右、从上往下的在输入\n",
    "张量内滑动。在汇聚窗口到达的每个位置，它计算该窗口中输入子张量的最大值或平均值。计算最大值或平\n",
    "均值是取决于使用了最大汇聚层还是平均汇聚层。\n"
   ]
  },
  {
   "cell_type": "code",
   "execution_count": 31,
   "id": "5d42e67b-d183-44d9-826d-780b483d7ba0",
   "metadata": {},
   "outputs": [],
   "source": [
    "import torch\n",
    "from torch import nn\n",
    "from d2l import torch as d2l"
   ]
  },
  {
   "cell_type": "code",
   "execution_count": 32,
   "id": "13892a09-04e4-46c9-8993-e8f2c8998505",
   "metadata": {},
   "outputs": [],
   "source": [
    "def pool2d(X, pool_size, mode='max'):\n",
    "    p_h, p_w = pool_size\n",
    "    Y = torch.zeros((X.shape[0] - p_h + 1, X.shape[1] - p_w + 1))\n",
    "    for i in range(Y.shape[0]):\n",
    "        for j in range(Y.shape[1]):\n",
    "            if mode == 'max':\n",
    "                Y[i, j] = X[i: i + p_h, j: j + p_w].max()\n",
    "            elif mode == 'avg':\n",
    "                Y[i, j] = X[i: i + p_h, j: j + p_w].mean()\n",
    "    return Y"
   ]
  },
  {
   "cell_type": "markdown",
   "id": "d09211f9-ca3b-4929-87b0-f619375043db",
   "metadata": {},
   "source": [
    "我们可以构建输入张量X，验证二维最大汇聚层的输出"
   ]
  },
  {
   "cell_type": "code",
   "execution_count": 34,
   "id": "f58924d5-f9b0-4ece-b51f-18de2072bdea",
   "metadata": {},
   "outputs": [
    {
     "data": {
      "text/plain": [
       "tensor([[4., 5.],\n",
       "        [7., 8.]])"
      ]
     },
     "execution_count": 34,
     "metadata": {},
     "output_type": "execute_result"
    }
   ],
   "source": [
    "X = torch.tensor([[0.0, 1.0, 2.0], [3.0, 4.0, 5.0], [6.0, 7.0, 8.0]])\n",
    "pool2d(X, (2, 2))"
   ]
  },
  {
   "cell_type": "markdown",
   "id": "8094c496-3d3a-4be7-aa9f-9c3159f253f5",
   "metadata": {},
   "source": [
    "还可以验证平均汇聚层。"
   ]
  },
  {
   "cell_type": "code",
   "execution_count": 35,
   "id": "1150e71a-2062-4a2d-af01-992aba658440",
   "metadata": {},
   "outputs": [
    {
     "data": {
      "text/plain": [
       "tensor([[2., 3.],\n",
       "        [5., 6.]])"
      ]
     },
     "execution_count": 35,
     "metadata": {},
     "output_type": "execute_result"
    }
   ],
   "source": [
    "pool2d(X, (2, 2), 'avg')"
   ]
  },
  {
   "cell_type": "markdown",
   "id": "ea65c2f6-3ecf-4610-9a30-c7882344a27e",
   "metadata": {},
   "source": [
    "## 填充和步幅"
   ]
  },
  {
   "cell_type": "markdown",
   "id": "e99feca6-b6cd-4df9-bfd8-7f981dd26022",
   "metadata": {},
   "source": [
    "汇聚层也可以改变输出形状。和以前一样，我们可以通过填充和步幅以获得所需的输出形状。\n",
    "下面，我们用深度学习框架中内置的二维最大汇聚层，来演示汇聚层中填充和步幅的使用。我们首先构造了\n",
    "一个输入张量X，它有四个维度，其中样本数和通道数都是1。"
   ]
  },
  {
   "cell_type": "code",
   "execution_count": 46,
   "id": "6b5d1257-d9bc-44d7-bcfe-304d21e71d78",
   "metadata": {},
   "outputs": [
    {
     "data": {
      "text/plain": [
       "tensor([[[[ 0.,  1.,  2.,  3.],\n",
       "          [ 4.,  5.,  6.,  7.],\n",
       "          [ 8.,  9., 10., 11.],\n",
       "          [12., 13., 14., 15.]]]])"
      ]
     },
     "execution_count": 46,
     "metadata": {},
     "output_type": "execute_result"
    }
   ],
   "source": [
    "X = torch.arange(16, dtype=torch.float32).reshape((1, 1, 4, 4))\n",
    "X"
   ]
  },
  {
   "cell_type": "markdown",
   "id": "d6bef546-5fcf-46c6-9397-f745b3ea749a",
   "metadata": {},
   "source": [
    "默认情况下，深度学习框架中的步幅与汇聚窗口的大小相同。因此，如果我们使用形状为(3, 3)的汇聚窗口，\n",
    "那么默认情况下，我们得到的步幅形状为(3, 3)。"
   ]
  },
  {
   "cell_type": "code",
   "execution_count": 37,
   "id": "bf2d2b02-f7c7-4d3a-b43b-fd7d79753703",
   "metadata": {},
   "outputs": [
    {
     "data": {
      "text/plain": [
       "tensor([[[[10.]]]])"
      ]
     },
     "execution_count": 37,
     "metadata": {},
     "output_type": "execute_result"
    }
   ],
   "source": [
    "pool2d = nn.MaxPool2d(3)\n",
    "pool2d(X)"
   ]
  },
  {
   "cell_type": "markdown",
   "id": "df66fbc9-354f-4723-9de3-1632bedce60c",
   "metadata": {},
   "source": [
    "填充和步幅可以手动设定"
   ]
  },
  {
   "cell_type": "code",
   "execution_count": 38,
   "id": "cdd9c72b-04c7-44ee-b1af-668afa3edf22",
   "metadata": {},
   "outputs": [
    {
     "data": {
      "text/plain": [
       "tensor([[[[ 5.,  7.],\n",
       "          [13., 15.]]]])"
      ]
     },
     "execution_count": 38,
     "metadata": {},
     "output_type": "execute_result"
    }
   ],
   "source": [
    "pool2d = nn.MaxPool2d(3, padding=1, stride=2)\n",
    "pool2d(X)"
   ]
  },
  {
   "cell_type": "markdown",
   "id": "f5a8e078-c52a-4418-95e5-e156dde1760c",
   "metadata": {},
   "source": [
    "同时也可以设定一个任意大小的矩形汇聚窗口，并分别设定填充和步幅的高度和宽度。"
   ]
  },
  {
   "cell_type": "code",
   "execution_count": 40,
   "id": "120a9ecf-114f-4c73-97e8-1c12f5e4d813",
   "metadata": {},
   "outputs": [
    {
     "data": {
      "text/plain": [
       "tensor([[[[ 5.,  7.],\n",
       "          [13., 15.]]]])"
      ]
     },
     "execution_count": 40,
     "metadata": {},
     "output_type": "execute_result"
    }
   ],
   "source": [
    "pool2d = nn.MaxPool2d((2, 3), stride=(2, 3), padding=(0, 1))\n",
    "pool2d(X)"
   ]
  },
  {
   "cell_type": "markdown",
   "id": "8b245e3a-b1f6-4d31-862d-2df835c4f80a",
   "metadata": {},
   "source": [
    "## 多个通道"
   ]
  },
  {
   "cell_type": "markdown",
   "id": "0acfc05f-3d4f-4cd7-86d0-6836de79fbc5",
   "metadata": {},
   "source": [
    "在处理多通道输入数据时，汇聚层在每个输入通道上单独运算，而不是像卷积层一样在通道上对输入进行汇\n",
    "总。这意味着汇聚层的输出通道数与输入通道数相同。下面，我们将在通道维度上连结张量X和X + 1，以构\n",
    "建具有2个通道的输入。"
   ]
  },
  {
   "cell_type": "code",
   "execution_count": 47,
   "id": "5294fcce-a465-44ca-b074-8ac2a8172c48",
   "metadata": {},
   "outputs": [
    {
     "data": {
      "text/plain": [
       "tensor([[[[ 0.,  1.,  2.,  3.],\n",
       "          [ 4.,  5.,  6.,  7.],\n",
       "          [ 8.,  9., 10., 11.],\n",
       "          [12., 13., 14., 15.]],\n",
       "\n",
       "         [[ 1.,  2.,  3.,  4.],\n",
       "          [ 5.,  6.,  7.,  8.],\n",
       "          [ 9., 10., 11., 12.],\n",
       "          [13., 14., 15., 16.]]]])"
      ]
     },
     "execution_count": 47,
     "metadata": {},
     "output_type": "execute_result"
    }
   ],
   "source": [
    "X = torch.cat((X, X + 1), 1)\n",
    "X"
   ]
  },
  {
   "cell_type": "code",
   "execution_count": 48,
   "id": "8d9811bb-c8c6-49ed-b855-0fda6c77f328",
   "metadata": {},
   "outputs": [
    {
     "data": {
      "text/plain": [
       "tensor([[[[ 5.,  7.],\n",
       "          [13., 15.]],\n",
       "\n",
       "         [[ 6.,  8.],\n",
       "          [14., 16.]]]])"
      ]
     },
     "execution_count": 48,
     "metadata": {},
     "output_type": "execute_result"
    }
   ],
   "source": [
    "pool2d = nn.MaxPool2d(3, padding=1, stride=2)\n",
    "pool2d(X)"
   ]
  },
  {
   "cell_type": "markdown",
   "id": "65408a44-cb20-4681-ae51-0a371c8530d5",
   "metadata": {},
   "source": [
    "# 卷积神经网络"
   ]
  },
  {
   "cell_type": "code",
   "execution_count": null,
   "id": "cdb8c513-6891-41c0-ae57-9504abd367c5",
   "metadata": {},
   "outputs": [],
   "source": []
  },
  {
   "cell_type": "code",
   "execution_count": null,
   "id": "fdabbc16-6b17-41af-b4f1-8ac01037d997",
   "metadata": {},
   "outputs": [],
   "source": []
  },
  {
   "cell_type": "code",
   "execution_count": 1,
   "id": "1f200636-1446-49fb-88ff-6ace2f282236",
   "metadata": {},
   "outputs": [],
   "source": [
    "import torch\n",
    "from torch import nn\n",
    "from d2l import torch as d2l\n",
    "\n",
    "# 定义一个顺序模型，包含多个层\n",
    "net = nn.Sequential(\n",
    "    # 第一层：卷积层\n",
    "    # 输入通道数为1（灰度图像），输出通道数为6，卷积核大小为5x5，padding为2\n",
    "    # 使用Sigmoid作为激活函数\n",
    "    nn.Conv2d(1, 6, kernel_size=5, padding=2), nn.Sigmoid(),\n",
    "    \n",
    "    # 第二层：平均池化层\n",
    "    # 池化核大小为2x2，步幅为2\n",
    "    nn.AvgPool2d(kernel_size=2, stride=2),\n",
    "    \n",
    "    # 第三层：卷积层\n",
    "    # 输入通道数为6，输出通道数为16，卷积核大小为5x5\n",
    "    # 使用Sigmoid作为激活函数\n",
    "    nn.Conv2d(6, 16, kernel_size=5), nn.Sigmoid(),\n",
    "    \n",
    "    # 第四层：平均池化层\n",
    "    # 池化核大小为2x2，步幅为2\n",
    "    nn.AvgPool2d(kernel_size=2, stride=2),\n",
    "    \n",
    "    # 第五层：展平层\n",
    "    # 将多维输入张量展平为一维张量，以便输入到全连接层\n",
    "    nn.Flatten(),\n",
    "    \n",
    "    # 第六层：全连接层（线性层）\n",
    "    # 输入大小为16*5*5（16个通道，每个通道5x5的特征图），输出大小为120\n",
    "    # 使用Sigmoid作为激活函数\n",
    "    nn.Linear(16 * 5 * 5, 120), nn.Sigmoid(),\n",
    "    \n",
    "    # 第七层：全连接层（线性层）\n",
    "    # 输入大小为120，输出大小为84\n",
    "    # 使用Sigmoid作为激活函数\n",
    "    nn.Linear(120, 84), nn.Sigmoid(),\n",
    "    \n",
    "    # 第八层：全连接层（线性层）\n",
    "    # 输入大小为84，输出大小为10（假设是10类分类任务）\n",
    "    nn.Linear(84, 10)\n",
    ")"
   ]
  },
  {
   "cell_type": "code",
   "execution_count": 2,
   "id": "819b9408-944f-498c-83e4-a94e5533c0d2",
   "metadata": {},
   "outputs": [
    {
     "name": "stdout",
     "output_type": "stream",
     "text": [
      "Conv2d output shape: \t torch.Size([1, 6, 28, 28])\n",
      "Sigmoid output shape: \t torch.Size([1, 6, 28, 28])\n",
      "AvgPool2d output shape: \t torch.Size([1, 6, 14, 14])\n",
      "Conv2d output shape: \t torch.Size([1, 16, 10, 10])\n",
      "Sigmoid output shape: \t torch.Size([1, 16, 10, 10])\n",
      "AvgPool2d output shape: \t torch.Size([1, 16, 5, 5])\n",
      "Flatten output shape: \t torch.Size([1, 400])\n",
      "Linear output shape: \t torch.Size([1, 120])\n",
      "Sigmoid output shape: \t torch.Size([1, 120])\n",
      "Linear output shape: \t torch.Size([1, 84])\n",
      "Sigmoid output shape: \t torch.Size([1, 84])\n",
      "Linear output shape: \t torch.Size([1, 10])\n"
     ]
    }
   ],
   "source": [
    "X = torch.rand(size=(1, 1, 28, 28), dtype=torch.float32)\n",
    "\n",
    "for layer in net:\n",
    "    X = layer(X)\n",
    "    print(layer.__class__.__name__,'output shape: \\t',X.shape)"
   ]
  },
  {
   "cell_type": "markdown",
   "id": "d4e48d43-ecf8-405a-9d0e-7e7c34c54f93",
   "metadata": {},
   "source": [
    "请注意，在整个卷积块中，与上一层相比，每一层特征的高度和宽度都减小了。第一个卷积层使用2个像素的\n",
    "填充，来补偿5 × 5卷积核导致的特征减少。相反，第二个卷积层没有填充，因此高度和宽度都减少了4个像\n",
    "素。随着层叠的上升，通道的数量从输入时的1个，增加到第一个卷积层之后的6个，再到第二个卷积层之后\n",
    "的16个。同时，每个汇聚层的高度和宽度都减半。最后，每个全连接层减少维数，最终输出一个维数与结果\n",
    "分类数相匹配的输出。"
   ]
  },
  {
   "cell_type": "markdown",
   "id": "527dcf4c-3fe5-4b1e-95b3-238a4a1137bb",
   "metadata": {},
   "source": [
    "## 训练模型"
   ]
  },
  {
   "cell_type": "code",
   "execution_count": 3,
   "id": "d1d0c8dd-bc15-4b39-a84f-d2e8271837ce",
   "metadata": {},
   "outputs": [],
   "source": [
    "batch_size = 256\n",
    "train_iter, test_iter = d2l.load_data_fashion_mnist(batch_size=batch_size)"
   ]
  },
  {
   "cell_type": "markdown",
   "id": "56930df7-bb73-45c9-bb43-d7aa2495f7c3",
   "metadata": {},
   "source": [
    "虽然卷积神经网络的参数较少，但与深度的多层感知机相比，它们的计算成本仍然很高，因为每个参数都参\n",
    "与更多的乘法。通过使用GPU，可以用它加快训练。"
   ]
  },
  {
   "cell_type": "code",
   "execution_count": 4,
   "id": "bce41749-0a3c-4797-afa9-5b27ad87dbad",
   "metadata": {},
   "outputs": [],
   "source": [
    "def evaluate_accuracy_gpu(net, data_iter, device=None):  # @save\n",
    "    \"\"\"使用GPU计算模型在数据集上的精度\"\"\"\n",
    "    # 如果net是nn.Module的实例（即是一个PyTorch模型），则设置为评估模式\n",
    "    if isinstance(net, nn.Module):\n",
    "        net.eval()  # 设置为评估模式\n",
    "\n",
    "    # 如果没有指定device，则从模型的参数中获取设备（GPU或CPU）\n",
    "    if not device:\n",
    "        device = next(iter(net.parameters())).device\n",
    "\n",
    "    # 初始化一个累加器，用于存储正确预测的数量和总预测的数量\n",
    "    metric = d2l.Accumulator(2)\n",
    "\n",
    "    # 在评估模式下，不需要计算梯度\n",
    "    with torch.no_grad():\n",
    "        # 遍历数据集\n",
    "        for X, y in data_iter:\n",
    "            # 如果X是一个列表（例如BERT微调任务中的多输入），则将每个元素移动到指定设备\n",
    "            if isinstance(X, list):\n",
    "                X = [x.to(device) for x in X]\n",
    "            else:\n",
    "                # 否则，将输入数据X移动到指定设备\n",
    "                X = X.to(device)\n",
    "            # 将标签y移动到指定设备\n",
    "            y = y.to(device)\n",
    "\n",
    "            # 计算当前批次的正确预测数量，并累加到metric中\n",
    "            # y.numel()返回当前批次的总样本数\n",
    "            metric.add(d2l.accuracy(net(X), y), y.numel())\n",
    "\n",
    "    # 返回模型在整个数据集上的精度\n",
    "    return metric[0] / metric[1]"
   ]
  },
  {
   "cell_type": "markdown",
   "id": "b44aa4ee-59c6-4c4f-b1c0-02d1f5f349d5",
   "metadata": {},
   "source": [
    "为了使用GPU，我们还需要一点小改动。与之前定义的train_epoch_ch3不同，在进行正向和反向传播之前，我们需要将每一小批量数据移动到我们指定的设备（例如GPU）上。"
   ]
  },
  {
   "cell_type": "markdown",
   "id": "8627a35d-83ef-4c41-a0cc-531cf442959e",
   "metadata": {},
   "source": [
    "训练函数train_ch6也类似于之前定义的train_ch3。由于我们将实现多层神经网络，因此我\n",
    "们将主要使用高级API。以下训练函数假定从高级API创建的模型作为输入，并进行相应的优化。我们使用Xavier随机初始化模型参数。与全连接层一样，我们使用交叉熵损失函数和小批量随机梯度下降。"
   ]
  },
  {
   "cell_type": "code",
   "execution_count": 5,
   "id": "bd45b87a-5c3c-4910-9728-b4c0e1631632",
   "metadata": {},
   "outputs": [],
   "source": [
    "# @save\n",
    "def train_ch6(net, train_iter, test_iter, num_epochs, lr, device):\n",
    "    \"\"\"用GPU训练模型(在第六章定义)\"\"\"\n",
    "\n",
    "    # 初始化模型权重\n",
    "    def init_weights(m):\n",
    "        # 如果是线性层或卷积层，使用Xavier初始化方法初始化权重\n",
    "        if type(m) == nn.Linear or type(m) == nn.Conv2d:\n",
    "            nn.init.xavier_uniform_(m.weight)\n",
    "\n",
    "    # 对网络中的所有层应用初始化函数\n",
    "    net.apply(init_weights)\n",
    "\n",
    "    # 打印训练设备（GPU或CPU）\n",
    "    print('training on', device)\n",
    "\n",
    "    # 将模型移动到指定设备（GPU或CPU）\n",
    "    net.to(device)\n",
    "\n",
    "    # 定义优化器（随机梯度下降）\n",
    "    optimizer = torch.optim.SGD(net.parameters(), lr=lr)\n",
    "\n",
    "    # 定义损失函数（交叉熵损失）\n",
    "    loss = nn.CrossEntropyLoss()\n",
    "\n",
    "    # 创建动画绘制器，用于可视化训练过程中的损失和精度\n",
    "    animator = d2l.Animator(xlabel='epoch', xlim=[1, num_epochs],\n",
    "                            legend=['train loss', 'train acc', 'test acc'])\n",
    "\n",
    "    # 创建计时器和获取训练数据的批次数量\n",
    "    timer, num_batches = d2l.Timer(), len(train_iter)\n",
    "\n",
    "    # 开始训练\n",
    "    for epoch in range(num_epochs):\n",
    "        # 初始化累加器，用于存储训练损失、训练精度和样本数\n",
    "        metric = d2l.Accumulator(3)\n",
    "\n",
    "        # 将模型设置为训练模式\n",
    "        net.train()\n",
    "\n",
    "        # 遍历训练数据\n",
    "        for i, (X, y) in enumerate(train_iter):\n",
    "            # 开始计时\n",
    "            timer.start()\n",
    "\n",
    "            # 清空优化器的梯度\n",
    "            optimizer.zero_grad()\n",
    "\n",
    "            # 将数据移动到指定设备\n",
    "            X, y = X.to(device), y.to(device)\n",
    "\n",
    "            # 前向传播：计算模型的预测值\n",
    "            y_hat = net(X)\n",
    "\n",
    "            # 计算损失\n",
    "            l = loss(y_hat, y)\n",
    "\n",
    "            # 反向传播：计算梯度\n",
    "            l.backward()\n",
    "\n",
    "            # 更新模型参数\n",
    "            optimizer.step()\n",
    "\n",
    "            # 在不需要梯度的上下文中，累加损失、精度和样本数\n",
    "            with torch.no_grad():\n",
    "                metric.add(l * X.shape[0], d2l.accuracy(y_hat, y), X.shape[0])\n",
    "\n",
    "            # 停止计时\n",
    "            timer.stop()\n",
    "\n",
    "            # 计算平均训练损失和训练精度\n",
    "            train_l = metric[0] / metric[2]\n",
    "            train_acc = metric[1] / metric[2]\n",
    "\n",
    "            # 每训练完一定比例的批次或最后一个批次时，更新可视化\n",
    "            if (i + 1) % (num_batches // 5) == 0 or i == num_batches - 1:\n",
    "                animator.add(epoch + (i + 1) / num_batches,\n",
    "                            (train_l, train_acc, None))\n",
    "\n",
    "        # 在每个epoch结束后，评估模型在测试集上的精度\n",
    "        test_acc = evaluate_accuracy_gpu(net, test_iter)\n",
    "\n",
    "        # 更新可视化\n",
    "        animator.add(epoch + 1, (None, None, test_acc))\n",
    "\n",
    "        # 打印当前epoch的训练损失、训练精度和测试精度\n",
    "        print(f'loss {train_l:.3f}, train acc {train_acc:.3f}, '\n",
    "              f'test acc {test_acc:.3f}')\n",
    "\n",
    "    # 打印训练速度（每秒处理的样本数）\n",
    "    print(f'{metric[2] * num_epochs / timer.sum():.1f} examples/sec '\n",
    "          f'on {str(device)}')"
   ]
  },
  {
   "cell_type": "markdown",
   "id": "44a67e10-b088-4796-a347-09aa789b1e7d",
   "metadata": {},
   "source": [
    "现在，我们训练和评估LeNet‐5模型。"
   ]
  },
  {
   "cell_type": "code",
   "execution_count": 6,
   "id": "599dbba8-e7bf-459c-bc3d-2a5bed88a268",
   "metadata": {},
   "outputs": [
    {
     "name": "stdout",
     "output_type": "stream",
     "text": [
      "loss 0.469, train acc 0.826, test acc 0.818\n",
      "28053.0 examples/sec on mps\n"
     ]
    },
    {
     "data": {
      "image/svg+xml": [
       "<?xml version=\"1.0\" encoding=\"utf-8\" standalone=\"no\"?>\n",
       "<!DOCTYPE svg PUBLIC \"-//W3C//DTD SVG 1.1//EN\"\n",
       "  \"http://www.w3.org/Graphics/SVG/1.1/DTD/svg11.dtd\">\n",
       "<svg xmlns:xlink=\"http://www.w3.org/1999/xlink\" width=\"238.965625pt\" height=\"183.35625pt\" viewBox=\"0 0 238.965625 183.35625\" xmlns=\"http://www.w3.org/2000/svg\" version=\"1.1\">\n",
       " <metadata>\n",
       "  <rdf:RDF xmlns:dc=\"http://purl.org/dc/elements/1.1/\" xmlns:cc=\"http://creativecommons.org/ns#\" xmlns:rdf=\"http://www.w3.org/1999/02/22-rdf-syntax-ns#\">\n",
       "   <cc:Work>\n",
       "    <dc:type rdf:resource=\"http://purl.org/dc/dcmitype/StillImage\"/>\n",
       "    <dc:date>2025-01-25T11:06:39.527706</dc:date>\n",
       "    <dc:format>image/svg+xml</dc:format>\n",
       "    <dc:creator>\n",
       "     <cc:Agent>\n",
       "      <dc:title>Matplotlib v3.7.2, https://matplotlib.org/</dc:title>\n",
       "     </cc:Agent>\n",
       "    </dc:creator>\n",
       "   </cc:Work>\n",
       "  </rdf:RDF>\n",
       " </metadata>\n",
       " <defs>\n",
       "  <style type=\"text/css\">*{stroke-linejoin: round; stroke-linecap: butt}</style>\n",
       " </defs>\n",
       " <g id=\"figure_1\">\n",
       "  <g id=\"patch_1\">\n",
       "   <path d=\"M 0 183.35625 \n",
       "L 238.965625 183.35625 \n",
       "L 238.965625 0 \n",
       "L 0 0 \n",
       "z\n",
       "\" style=\"fill: #ffffff\"/>\n",
       "  </g>\n",
       "  <g id=\"axes_1\">\n",
       "   <g id=\"patch_2\">\n",
       "    <path d=\"M 30.103125 145.8 \n",
       "L 225.403125 145.8 \n",
       "L 225.403125 7.2 \n",
       "L 30.103125 7.2 \n",
       "z\n",
       "\" style=\"fill: #ffffff\"/>\n",
       "   </g>\n",
       "   <g id=\"matplotlib.axis_1\">\n",
       "    <g id=\"xtick_1\">\n",
       "     <g id=\"line2d_1\">\n",
       "      <path d=\"M 51.803125 145.8 \n",
       "L 51.803125 7.2 \n",
       "\" clip-path=\"url(#pf5cedb3133)\" style=\"fill: none; stroke: #b0b0b0; stroke-width: 0.8; stroke-linecap: square\"/>\n",
       "     </g>\n",
       "     <g id=\"line2d_2\">\n",
       "      <defs>\n",
       "       <path id=\"m8a08bb1f15\" d=\"M 0 0 \n",
       "L 0 3.5 \n",
       "\" style=\"stroke: #000000; stroke-width: 0.8\"/>\n",
       "      </defs>\n",
       "      <g>\n",
       "       <use xlink:href=\"#m8a08bb1f15\" x=\"51.803125\" y=\"145.8\" style=\"stroke: #000000; stroke-width: 0.8\"/>\n",
       "      </g>\n",
       "     </g>\n",
       "     <g id=\"text_1\">\n",
       "      <!-- 2 -->\n",
       "      <g transform=\"translate(48.621875 160.398438) scale(0.1 -0.1)\">\n",
       "       <defs>\n",
       "        <path id=\"DejaVuSans-32\" d=\"M 1228 531 \n",
       "L 3431 531 \n",
       "L 3431 0 \n",
       "L 469 0 \n",
       "L 469 531 \n",
       "Q 828 903 1448 1529 \n",
       "Q 2069 2156 2228 2338 \n",
       "Q 2531 2678 2651 2914 \n",
       "Q 2772 3150 2772 3378 \n",
       "Q 2772 3750 2511 3984 \n",
       "Q 2250 4219 1831 4219 \n",
       "Q 1534 4219 1204 4116 \n",
       "Q 875 4013 500 3803 \n",
       "L 500 4441 \n",
       "Q 881 4594 1212 4672 \n",
       "Q 1544 4750 1819 4750 \n",
       "Q 2544 4750 2975 4387 \n",
       "Q 3406 4025 3406 3419 \n",
       "Q 3406 3131 3298 2873 \n",
       "Q 3191 2616 2906 2266 \n",
       "Q 2828 2175 2409 1742 \n",
       "Q 1991 1309 1228 531 \n",
       "z\n",
       "\" transform=\"scale(0.015625)\"/>\n",
       "       </defs>\n",
       "       <use xlink:href=\"#DejaVuSans-32\"/>\n",
       "      </g>\n",
       "     </g>\n",
       "    </g>\n",
       "    <g id=\"xtick_2\">\n",
       "     <g id=\"line2d_3\">\n",
       "      <path d=\"M 95.203125 145.8 \n",
       "L 95.203125 7.2 \n",
       "\" clip-path=\"url(#pf5cedb3133)\" style=\"fill: none; stroke: #b0b0b0; stroke-width: 0.8; stroke-linecap: square\"/>\n",
       "     </g>\n",
       "     <g id=\"line2d_4\">\n",
       "      <g>\n",
       "       <use xlink:href=\"#m8a08bb1f15\" x=\"95.203125\" y=\"145.8\" style=\"stroke: #000000; stroke-width: 0.8\"/>\n",
       "      </g>\n",
       "     </g>\n",
       "     <g id=\"text_2\">\n",
       "      <!-- 4 -->\n",
       "      <g transform=\"translate(92.021875 160.398438) scale(0.1 -0.1)\">\n",
       "       <defs>\n",
       "        <path id=\"DejaVuSans-34\" d=\"M 2419 4116 \n",
       "L 825 1625 \n",
       "L 2419 1625 \n",
       "L 2419 4116 \n",
       "z\n",
       "M 2253 4666 \n",
       "L 3047 4666 \n",
       "L 3047 1625 \n",
       "L 3713 1625 \n",
       "L 3713 1100 \n",
       "L 3047 1100 \n",
       "L 3047 0 \n",
       "L 2419 0 \n",
       "L 2419 1100 \n",
       "L 313 1100 \n",
       "L 313 1709 \n",
       "L 2253 4666 \n",
       "z\n",
       "\" transform=\"scale(0.015625)\"/>\n",
       "       </defs>\n",
       "       <use xlink:href=\"#DejaVuSans-34\"/>\n",
       "      </g>\n",
       "     </g>\n",
       "    </g>\n",
       "    <g id=\"xtick_3\">\n",
       "     <g id=\"line2d_5\">\n",
       "      <path d=\"M 138.603125 145.8 \n",
       "L 138.603125 7.2 \n",
       "\" clip-path=\"url(#pf5cedb3133)\" style=\"fill: none; stroke: #b0b0b0; stroke-width: 0.8; stroke-linecap: square\"/>\n",
       "     </g>\n",
       "     <g id=\"line2d_6\">\n",
       "      <g>\n",
       "       <use xlink:href=\"#m8a08bb1f15\" x=\"138.603125\" y=\"145.8\" style=\"stroke: #000000; stroke-width: 0.8\"/>\n",
       "      </g>\n",
       "     </g>\n",
       "     <g id=\"text_3\">\n",
       "      <!-- 6 -->\n",
       "      <g transform=\"translate(135.421875 160.398438) scale(0.1 -0.1)\">\n",
       "       <defs>\n",
       "        <path id=\"DejaVuSans-36\" d=\"M 2113 2584 \n",
       "Q 1688 2584 1439 2293 \n",
       "Q 1191 2003 1191 1497 \n",
       "Q 1191 994 1439 701 \n",
       "Q 1688 409 2113 409 \n",
       "Q 2538 409 2786 701 \n",
       "Q 3034 994 3034 1497 \n",
       "Q 3034 2003 2786 2293 \n",
       "Q 2538 2584 2113 2584 \n",
       "z\n",
       "M 3366 4563 \n",
       "L 3366 3988 \n",
       "Q 3128 4100 2886 4159 \n",
       "Q 2644 4219 2406 4219 \n",
       "Q 1781 4219 1451 3797 \n",
       "Q 1122 3375 1075 2522 \n",
       "Q 1259 2794 1537 2939 \n",
       "Q 1816 3084 2150 3084 \n",
       "Q 2853 3084 3261 2657 \n",
       "Q 3669 2231 3669 1497 \n",
       "Q 3669 778 3244 343 \n",
       "Q 2819 -91 2113 -91 \n",
       "Q 1303 -91 875 529 \n",
       "Q 447 1150 447 2328 \n",
       "Q 447 3434 972 4092 \n",
       "Q 1497 4750 2381 4750 \n",
       "Q 2619 4750 2861 4703 \n",
       "Q 3103 4656 3366 4563 \n",
       "z\n",
       "\" transform=\"scale(0.015625)\"/>\n",
       "       </defs>\n",
       "       <use xlink:href=\"#DejaVuSans-36\"/>\n",
       "      </g>\n",
       "     </g>\n",
       "    </g>\n",
       "    <g id=\"xtick_4\">\n",
       "     <g id=\"line2d_7\">\n",
       "      <path d=\"M 182.003125 145.8 \n",
       "L 182.003125 7.2 \n",
       "\" clip-path=\"url(#pf5cedb3133)\" style=\"fill: none; stroke: #b0b0b0; stroke-width: 0.8; stroke-linecap: square\"/>\n",
       "     </g>\n",
       "     <g id=\"line2d_8\">\n",
       "      <g>\n",
       "       <use xlink:href=\"#m8a08bb1f15\" x=\"182.003125\" y=\"145.8\" style=\"stroke: #000000; stroke-width: 0.8\"/>\n",
       "      </g>\n",
       "     </g>\n",
       "     <g id=\"text_4\">\n",
       "      <!-- 8 -->\n",
       "      <g transform=\"translate(178.821875 160.398438) scale(0.1 -0.1)\">\n",
       "       <defs>\n",
       "        <path id=\"DejaVuSans-38\" d=\"M 2034 2216 \n",
       "Q 1584 2216 1326 1975 \n",
       "Q 1069 1734 1069 1313 \n",
       "Q 1069 891 1326 650 \n",
       "Q 1584 409 2034 409 \n",
       "Q 2484 409 2743 651 \n",
       "Q 3003 894 3003 1313 \n",
       "Q 3003 1734 2745 1975 \n",
       "Q 2488 2216 2034 2216 \n",
       "z\n",
       "M 1403 2484 \n",
       "Q 997 2584 770 2862 \n",
       "Q 544 3141 544 3541 \n",
       "Q 544 4100 942 4425 \n",
       "Q 1341 4750 2034 4750 \n",
       "Q 2731 4750 3128 4425 \n",
       "Q 3525 4100 3525 3541 \n",
       "Q 3525 3141 3298 2862 \n",
       "Q 3072 2584 2669 2484 \n",
       "Q 3125 2378 3379 2068 \n",
       "Q 3634 1759 3634 1313 \n",
       "Q 3634 634 3220 271 \n",
       "Q 2806 -91 2034 -91 \n",
       "Q 1263 -91 848 271 \n",
       "Q 434 634 434 1313 \n",
       "Q 434 1759 690 2068 \n",
       "Q 947 2378 1403 2484 \n",
       "z\n",
       "M 1172 3481 \n",
       "Q 1172 3119 1398 2916 \n",
       "Q 1625 2713 2034 2713 \n",
       "Q 2441 2713 2670 2916 \n",
       "Q 2900 3119 2900 3481 \n",
       "Q 2900 3844 2670 4047 \n",
       "Q 2441 4250 2034 4250 \n",
       "Q 1625 4250 1398 4047 \n",
       "Q 1172 3844 1172 3481 \n",
       "z\n",
       "\" transform=\"scale(0.015625)\"/>\n",
       "       </defs>\n",
       "       <use xlink:href=\"#DejaVuSans-38\"/>\n",
       "      </g>\n",
       "     </g>\n",
       "    </g>\n",
       "    <g id=\"xtick_5\">\n",
       "     <g id=\"line2d_9\">\n",
       "      <path d=\"M 225.403125 145.8 \n",
       "L 225.403125 7.2 \n",
       "\" clip-path=\"url(#pf5cedb3133)\" style=\"fill: none; stroke: #b0b0b0; stroke-width: 0.8; stroke-linecap: square\"/>\n",
       "     </g>\n",
       "     <g id=\"line2d_10\">\n",
       "      <g>\n",
       "       <use xlink:href=\"#m8a08bb1f15\" x=\"225.403125\" y=\"145.8\" style=\"stroke: #000000; stroke-width: 0.8\"/>\n",
       "      </g>\n",
       "     </g>\n",
       "     <g id=\"text_5\">\n",
       "      <!-- 10 -->\n",
       "      <g transform=\"translate(219.040625 160.398438) scale(0.1 -0.1)\">\n",
       "       <defs>\n",
       "        <path id=\"DejaVuSans-31\" d=\"M 794 531 \n",
       "L 1825 531 \n",
       "L 1825 4091 \n",
       "L 703 3866 \n",
       "L 703 4441 \n",
       "L 1819 4666 \n",
       "L 2450 4666 \n",
       "L 2450 531 \n",
       "L 3481 531 \n",
       "L 3481 0 \n",
       "L 794 0 \n",
       "L 794 531 \n",
       "z\n",
       "\" transform=\"scale(0.015625)\"/>\n",
       "        <path id=\"DejaVuSans-30\" d=\"M 2034 4250 \n",
       "Q 1547 4250 1301 3770 \n",
       "Q 1056 3291 1056 2328 \n",
       "Q 1056 1369 1301 889 \n",
       "Q 1547 409 2034 409 \n",
       "Q 2525 409 2770 889 \n",
       "Q 3016 1369 3016 2328 \n",
       "Q 3016 3291 2770 3770 \n",
       "Q 2525 4250 2034 4250 \n",
       "z\n",
       "M 2034 4750 \n",
       "Q 2819 4750 3233 4129 \n",
       "Q 3647 3509 3647 2328 \n",
       "Q 3647 1150 3233 529 \n",
       "Q 2819 -91 2034 -91 \n",
       "Q 1250 -91 836 529 \n",
       "Q 422 1150 422 2328 \n",
       "Q 422 3509 836 4129 \n",
       "Q 1250 4750 2034 4750 \n",
       "z\n",
       "\" transform=\"scale(0.015625)\"/>\n",
       "       </defs>\n",
       "       <use xlink:href=\"#DejaVuSans-31\"/>\n",
       "       <use xlink:href=\"#DejaVuSans-30\" x=\"63.623047\"/>\n",
       "      </g>\n",
       "     </g>\n",
       "    </g>\n",
       "    <g id=\"text_6\">\n",
       "     <!-- epoch -->\n",
       "     <g transform=\"translate(112.525 174.076563) scale(0.1 -0.1)\">\n",
       "      <defs>\n",
       "       <path id=\"DejaVuSans-65\" d=\"M 3597 1894 \n",
       "L 3597 1613 \n",
       "L 953 1613 \n",
       "Q 991 1019 1311 708 \n",
       "Q 1631 397 2203 397 \n",
       "Q 2534 397 2845 478 \n",
       "Q 3156 559 3463 722 \n",
       "L 3463 178 \n",
       "Q 3153 47 2828 -22 \n",
       "Q 2503 -91 2169 -91 \n",
       "Q 1331 -91 842 396 \n",
       "Q 353 884 353 1716 \n",
       "Q 353 2575 817 3079 \n",
       "Q 1281 3584 2069 3584 \n",
       "Q 2775 3584 3186 3129 \n",
       "Q 3597 2675 3597 1894 \n",
       "z\n",
       "M 3022 2063 \n",
       "Q 3016 2534 2758 2815 \n",
       "Q 2500 3097 2075 3097 \n",
       "Q 1594 3097 1305 2825 \n",
       "Q 1016 2553 972 2059 \n",
       "L 3022 2063 \n",
       "z\n",
       "\" transform=\"scale(0.015625)\"/>\n",
       "       <path id=\"DejaVuSans-70\" d=\"M 1159 525 \n",
       "L 1159 -1331 \n",
       "L 581 -1331 \n",
       "L 581 3500 \n",
       "L 1159 3500 \n",
       "L 1159 2969 \n",
       "Q 1341 3281 1617 3432 \n",
       "Q 1894 3584 2278 3584 \n",
       "Q 2916 3584 3314 3078 \n",
       "Q 3713 2572 3713 1747 \n",
       "Q 3713 922 3314 415 \n",
       "Q 2916 -91 2278 -91 \n",
       "Q 1894 -91 1617 61 \n",
       "Q 1341 213 1159 525 \n",
       "z\n",
       "M 3116 1747 \n",
       "Q 3116 2381 2855 2742 \n",
       "Q 2594 3103 2138 3103 \n",
       "Q 1681 3103 1420 2742 \n",
       "Q 1159 2381 1159 1747 \n",
       "Q 1159 1113 1420 752 \n",
       "Q 1681 391 2138 391 \n",
       "Q 2594 391 2855 752 \n",
       "Q 3116 1113 3116 1747 \n",
       "z\n",
       "\" transform=\"scale(0.015625)\"/>\n",
       "       <path id=\"DejaVuSans-6f\" d=\"M 1959 3097 \n",
       "Q 1497 3097 1228 2736 \n",
       "Q 959 2375 959 1747 \n",
       "Q 959 1119 1226 758 \n",
       "Q 1494 397 1959 397 \n",
       "Q 2419 397 2687 759 \n",
       "Q 2956 1122 2956 1747 \n",
       "Q 2956 2369 2687 2733 \n",
       "Q 2419 3097 1959 3097 \n",
       "z\n",
       "M 1959 3584 \n",
       "Q 2709 3584 3137 3096 \n",
       "Q 3566 2609 3566 1747 \n",
       "Q 3566 888 3137 398 \n",
       "Q 2709 -91 1959 -91 \n",
       "Q 1206 -91 779 398 \n",
       "Q 353 888 353 1747 \n",
       "Q 353 2609 779 3096 \n",
       "Q 1206 3584 1959 3584 \n",
       "z\n",
       "\" transform=\"scale(0.015625)\"/>\n",
       "       <path id=\"DejaVuSans-63\" d=\"M 3122 3366 \n",
       "L 3122 2828 \n",
       "Q 2878 2963 2633 3030 \n",
       "Q 2388 3097 2138 3097 \n",
       "Q 1578 3097 1268 2742 \n",
       "Q 959 2388 959 1747 \n",
       "Q 959 1106 1268 751 \n",
       "Q 1578 397 2138 397 \n",
       "Q 2388 397 2633 464 \n",
       "Q 2878 531 3122 666 \n",
       "L 3122 134 \n",
       "Q 2881 22 2623 -34 \n",
       "Q 2366 -91 2075 -91 \n",
       "Q 1284 -91 818 406 \n",
       "Q 353 903 353 1747 \n",
       "Q 353 2603 823 3093 \n",
       "Q 1294 3584 2113 3584 \n",
       "Q 2378 3584 2631 3529 \n",
       "Q 2884 3475 3122 3366 \n",
       "z\n",
       "\" transform=\"scale(0.015625)\"/>\n",
       "       <path id=\"DejaVuSans-68\" d=\"M 3513 2113 \n",
       "L 3513 0 \n",
       "L 2938 0 \n",
       "L 2938 2094 \n",
       "Q 2938 2591 2744 2837 \n",
       "Q 2550 3084 2163 3084 \n",
       "Q 1697 3084 1428 2787 \n",
       "Q 1159 2491 1159 1978 \n",
       "L 1159 0 \n",
       "L 581 0 \n",
       "L 581 4863 \n",
       "L 1159 4863 \n",
       "L 1159 2956 \n",
       "Q 1366 3272 1645 3428 \n",
       "Q 1925 3584 2291 3584 \n",
       "Q 2894 3584 3203 3211 \n",
       "Q 3513 2838 3513 2113 \n",
       "z\n",
       "\" transform=\"scale(0.015625)\"/>\n",
       "      </defs>\n",
       "      <use xlink:href=\"#DejaVuSans-65\"/>\n",
       "      <use xlink:href=\"#DejaVuSans-70\" x=\"61.523438\"/>\n",
       "      <use xlink:href=\"#DejaVuSans-6f\" x=\"125\"/>\n",
       "      <use xlink:href=\"#DejaVuSans-63\" x=\"186.181641\"/>\n",
       "      <use xlink:href=\"#DejaVuSans-68\" x=\"241.162109\"/>\n",
       "     </g>\n",
       "    </g>\n",
       "   </g>\n",
       "   <g id=\"matplotlib.axis_2\">\n",
       "    <g id=\"ytick_1\">\n",
       "     <g id=\"line2d_11\">\n",
       "      <path d=\"M 30.103125 145.03848 \n",
       "L 225.403125 145.03848 \n",
       "\" clip-path=\"url(#pf5cedb3133)\" style=\"fill: none; stroke: #b0b0b0; stroke-width: 0.8; stroke-linecap: square\"/>\n",
       "     </g>\n",
       "     <g id=\"line2d_12\">\n",
       "      <defs>\n",
       "       <path id=\"m4f9def11ed\" d=\"M 0 0 \n",
       "L -3.5 0 \n",
       "\" style=\"stroke: #000000; stroke-width: 0.8\"/>\n",
       "      </defs>\n",
       "      <g>\n",
       "       <use xlink:href=\"#m4f9def11ed\" x=\"30.103125\" y=\"145.03848\" style=\"stroke: #000000; stroke-width: 0.8\"/>\n",
       "      </g>\n",
       "     </g>\n",
       "     <g id=\"text_7\">\n",
       "      <!-- 0.0 -->\n",
       "      <g transform=\"translate(7.2 148.837699) scale(0.1 -0.1)\">\n",
       "       <defs>\n",
       "        <path id=\"DejaVuSans-2e\" d=\"M 684 794 \n",
       "L 1344 794 \n",
       "L 1344 0 \n",
       "L 684 0 \n",
       "L 684 794 \n",
       "z\n",
       "\" transform=\"scale(0.015625)\"/>\n",
       "       </defs>\n",
       "       <use xlink:href=\"#DejaVuSans-30\"/>\n",
       "       <use xlink:href=\"#DejaVuSans-2e\" x=\"63.623047\"/>\n",
       "       <use xlink:href=\"#DejaVuSans-30\" x=\"95.410156\"/>\n",
       "      </g>\n",
       "     </g>\n",
       "    </g>\n",
       "    <g id=\"ytick_2\">\n",
       "     <g id=\"line2d_13\">\n",
       "      <path d=\"M 30.103125 117.188261 \n",
       "L 225.403125 117.188261 \n",
       "\" clip-path=\"url(#pf5cedb3133)\" style=\"fill: none; stroke: #b0b0b0; stroke-width: 0.8; stroke-linecap: square\"/>\n",
       "     </g>\n",
       "     <g id=\"line2d_14\">\n",
       "      <g>\n",
       "       <use xlink:href=\"#m4f9def11ed\" x=\"30.103125\" y=\"117.188261\" style=\"stroke: #000000; stroke-width: 0.8\"/>\n",
       "      </g>\n",
       "     </g>\n",
       "     <g id=\"text_8\">\n",
       "      <!-- 0.5 -->\n",
       "      <g transform=\"translate(7.2 120.98748) scale(0.1 -0.1)\">\n",
       "       <defs>\n",
       "        <path id=\"DejaVuSans-35\" d=\"M 691 4666 \n",
       "L 3169 4666 \n",
       "L 3169 4134 \n",
       "L 1269 4134 \n",
       "L 1269 2991 \n",
       "Q 1406 3038 1543 3061 \n",
       "Q 1681 3084 1819 3084 \n",
       "Q 2600 3084 3056 2656 \n",
       "Q 3513 2228 3513 1497 \n",
       "Q 3513 744 3044 326 \n",
       "Q 2575 -91 1722 -91 \n",
       "Q 1428 -91 1123 -41 \n",
       "Q 819 9 494 109 \n",
       "L 494 744 \n",
       "Q 775 591 1075 516 \n",
       "Q 1375 441 1709 441 \n",
       "Q 2250 441 2565 725 \n",
       "Q 2881 1009 2881 1497 \n",
       "Q 2881 1984 2565 2268 \n",
       "Q 2250 2553 1709 2553 \n",
       "Q 1456 2553 1204 2497 \n",
       "Q 953 2441 691 2322 \n",
       "L 691 4666 \n",
       "z\n",
       "\" transform=\"scale(0.015625)\"/>\n",
       "       </defs>\n",
       "       <use xlink:href=\"#DejaVuSans-30\"/>\n",
       "       <use xlink:href=\"#DejaVuSans-2e\" x=\"63.623047\"/>\n",
       "       <use xlink:href=\"#DejaVuSans-35\" x=\"95.410156\"/>\n",
       "      </g>\n",
       "     </g>\n",
       "    </g>\n",
       "    <g id=\"ytick_3\">\n",
       "     <g id=\"line2d_15\">\n",
       "      <path d=\"M 30.103125 89.338042 \n",
       "L 225.403125 89.338042 \n",
       "\" clip-path=\"url(#pf5cedb3133)\" style=\"fill: none; stroke: #b0b0b0; stroke-width: 0.8; stroke-linecap: square\"/>\n",
       "     </g>\n",
       "     <g id=\"line2d_16\">\n",
       "      <g>\n",
       "       <use xlink:href=\"#m4f9def11ed\" x=\"30.103125\" y=\"89.338042\" style=\"stroke: #000000; stroke-width: 0.8\"/>\n",
       "      </g>\n",
       "     </g>\n",
       "     <g id=\"text_9\">\n",
       "      <!-- 1.0 -->\n",
       "      <g transform=\"translate(7.2 93.13726) scale(0.1 -0.1)\">\n",
       "       <use xlink:href=\"#DejaVuSans-31\"/>\n",
       "       <use xlink:href=\"#DejaVuSans-2e\" x=\"63.623047\"/>\n",
       "       <use xlink:href=\"#DejaVuSans-30\" x=\"95.410156\"/>\n",
       "      </g>\n",
       "     </g>\n",
       "    </g>\n",
       "    <g id=\"ytick_4\">\n",
       "     <g id=\"line2d_17\">\n",
       "      <path d=\"M 30.103125 61.487822 \n",
       "L 225.403125 61.487822 \n",
       "\" clip-path=\"url(#pf5cedb3133)\" style=\"fill: none; stroke: #b0b0b0; stroke-width: 0.8; stroke-linecap: square\"/>\n",
       "     </g>\n",
       "     <g id=\"line2d_18\">\n",
       "      <g>\n",
       "       <use xlink:href=\"#m4f9def11ed\" x=\"30.103125\" y=\"61.487822\" style=\"stroke: #000000; stroke-width: 0.8\"/>\n",
       "      </g>\n",
       "     </g>\n",
       "     <g id=\"text_10\">\n",
       "      <!-- 1.5 -->\n",
       "      <g transform=\"translate(7.2 65.287041) scale(0.1 -0.1)\">\n",
       "       <use xlink:href=\"#DejaVuSans-31\"/>\n",
       "       <use xlink:href=\"#DejaVuSans-2e\" x=\"63.623047\"/>\n",
       "       <use xlink:href=\"#DejaVuSans-35\" x=\"95.410156\"/>\n",
       "      </g>\n",
       "     </g>\n",
       "    </g>\n",
       "    <g id=\"ytick_5\">\n",
       "     <g id=\"line2d_19\">\n",
       "      <path d=\"M 30.103125 33.637603 \n",
       "L 225.403125 33.637603 \n",
       "\" clip-path=\"url(#pf5cedb3133)\" style=\"fill: none; stroke: #b0b0b0; stroke-width: 0.8; stroke-linecap: square\"/>\n",
       "     </g>\n",
       "     <g id=\"line2d_20\">\n",
       "      <g>\n",
       "       <use xlink:href=\"#m4f9def11ed\" x=\"30.103125\" y=\"33.637603\" style=\"stroke: #000000; stroke-width: 0.8\"/>\n",
       "      </g>\n",
       "     </g>\n",
       "     <g id=\"text_11\">\n",
       "      <!-- 2.0 -->\n",
       "      <g transform=\"translate(7.2 37.436822) scale(0.1 -0.1)\">\n",
       "       <use xlink:href=\"#DejaVuSans-32\"/>\n",
       "       <use xlink:href=\"#DejaVuSans-2e\" x=\"63.623047\"/>\n",
       "       <use xlink:href=\"#DejaVuSans-30\" x=\"95.410156\"/>\n",
       "      </g>\n",
       "     </g>\n",
       "    </g>\n",
       "   </g>\n",
       "   <g id=\"line2d_21\">\n",
       "    <path d=\"M 12.743125 13.5 \n",
       "L 17.083125 14.838216 \n",
       "L 21.423125 15.37807 \n",
       "L 25.763125 15.670857 \n",
       "L 30.103125 15.871908 \n",
       "L 34.443125 17.067097 \n",
       "L 38.783125 19.633172 \n",
       "L 43.123125 32.429763 \n",
       "L 47.463125 43.579451 \n",
       "L 51.803125 51.893702 \n",
       "L 56.143125 87.231221 \n",
       "L 60.483125 90.156719 \n",
       "L 64.823125 91.913569 \n",
       "L 69.163125 93.246246 \n",
       "L 73.503125 94.490972 \n",
       "L 77.843125 100.170197 \n",
       "L 82.183125 101.747323 \n",
       "L 86.523125 102.138636 \n",
       "L 90.863125 102.84888 \n",
       "L 95.203125 103.622745 \n",
       "L 99.543125 106.850098 \n",
       "L 103.883125 108.014021 \n",
       "L 108.223125 107.842052 \n",
       "L 112.563125 108.444652 \n",
       "L 116.903125 108.60546 \n",
       "L 121.243125 110.136616 \n",
       "L 125.583125 110.708557 \n",
       "L 129.923125 110.948065 \n",
       "L 134.263125 111.368528 \n",
       "L 138.603125 111.65676 \n",
       "L 142.943125 112.928099 \n",
       "L 147.283125 113.234951 \n",
       "L 151.623125 113.499822 \n",
       "L 155.963125 113.850239 \n",
       "L 160.303125 114.165781 \n",
       "L 164.643125 115.037777 \n",
       "L 168.983125 115.581503 \n",
       "L 173.323125 115.901884 \n",
       "L 177.663125 116.147744 \n",
       "L 182.003125 116.287173 \n",
       "L 186.343125 117.250384 \n",
       "L 190.683125 117.492424 \n",
       "L 195.023125 117.5413 \n",
       "L 199.363125 117.614108 \n",
       "L 203.703125 117.701742 \n",
       "L 208.043125 117.987917 \n",
       "L 212.383125 118.437833 \n",
       "L 216.723125 118.617062 \n",
       "L 221.063125 118.782189 \n",
       "L 225.403125 118.91723 \n",
       "\" clip-path=\"url(#pf5cedb3133)\" style=\"fill: none; stroke: #1f77b4; stroke-width: 1.5; stroke-linecap: square\"/>\n",
       "   </g>\n",
       "   <g id=\"line2d_22\">\n",
       "    <path d=\"M 12.743125 139.409181 \n",
       "L 17.083125 139.446215 \n",
       "L 21.423125 139.416896 \n",
       "L 25.763125 139.48788 \n",
       "L 30.103125 139.5 \n",
       "L 34.443125 138.395351 \n",
       "L 38.783125 136.534349 \n",
       "L 43.123125 132.36947 \n",
       "L 47.463125 128.401724 \n",
       "L 51.803125 125.428213 \n",
       "L 56.143125 112.947769 \n",
       "L 60.483125 111.406193 \n",
       "L 64.823125 110.648521 \n",
       "L 69.163125 109.949102 \n",
       "L 73.503125 109.408766 \n",
       "L 77.843125 107.02682 \n",
       "L 82.183125 106.293066 \n",
       "L 86.523125 106.207423 \n",
       "L 90.863125 105.953966 \n",
       "L 95.203125 105.549654 \n",
       "L 99.543125 104.267722 \n",
       "L 103.883125 103.839506 \n",
       "L 108.223125 103.906632 \n",
       "L 112.563125 103.68558 \n",
       "L 116.903125 103.649341 \n",
       "L 121.243125 103.045571 \n",
       "L 125.583125 102.737719 \n",
       "L 129.923125 102.613498 \n",
       "L 134.263125 102.454171 \n",
       "L 138.603125 102.332026 \n",
       "L 142.943125 101.925267 \n",
       "L 147.283125 101.721575 \n",
       "L 151.623125 101.511711 \n",
       "L 155.963125 101.381317 \n",
       "L 160.303125 101.224515 \n",
       "L 164.643125 100.971619 \n",
       "L 168.983125 100.652193 \n",
       "L 173.323125 100.467019 \n",
       "L 177.663125 100.369802 \n",
       "L 182.003125 100.303601 \n",
       "L 186.343125 99.892979 \n",
       "L 190.683125 99.703175 \n",
       "L 195.023125 99.749468 \n",
       "L 199.363125 99.708962 \n",
       "L 203.703125 99.68347 \n",
       "L 208.043125 99.342085 \n",
       "L 212.383125 99.358288 \n",
       "L 216.723125 99.184687 \n",
       "L 221.063125 99.058537 \n",
       "L 225.403125 99.007638 \n",
       "\" clip-path=\"url(#pf5cedb3133)\" style=\"fill: none; stroke-dasharray: 5.55,2.4; stroke-dashoffset: 0; stroke: #bf00bf; stroke-width: 1.5\"/>\n",
       "   </g>\n",
       "   <g id=\"line2d_23\">\n",
       "    <path d=\"M 30.103125 139.468436 \n",
       "L 51.803125 113.712554 \n",
       "L 73.503125 112.00255 \n",
       "L 95.203125 105.530159 \n",
       "L 116.903125 104.39944 \n",
       "L 138.603125 104.34374 \n",
       "L 160.303125 102.656017 \n",
       "L 182.003125 99.932265 \n",
       "L 203.703125 99.620343 \n",
       "L 225.403125 99.475521 \n",
       "\" clip-path=\"url(#pf5cedb3133)\" style=\"fill: none; stroke-dasharray: 9.6,2.4,1.5,2.4; stroke-dashoffset: 0; stroke: #008000; stroke-width: 1.5\"/>\n",
       "   </g>\n",
       "   <g id=\"patch_3\">\n",
       "    <path d=\"M 30.103125 145.8 \n",
       "L 30.103125 7.2 \n",
       "\" style=\"fill: none; stroke: #000000; stroke-width: 0.8; stroke-linejoin: miter; stroke-linecap: square\"/>\n",
       "   </g>\n",
       "   <g id=\"patch_4\">\n",
       "    <path d=\"M 225.403125 145.8 \n",
       "L 225.403125 7.2 \n",
       "\" style=\"fill: none; stroke: #000000; stroke-width: 0.8; stroke-linejoin: miter; stroke-linecap: square\"/>\n",
       "   </g>\n",
       "   <g id=\"patch_5\">\n",
       "    <path d=\"M 30.103125 145.8 \n",
       "L 225.403125 145.8 \n",
       "\" style=\"fill: none; stroke: #000000; stroke-width: 0.8; stroke-linejoin: miter; stroke-linecap: square\"/>\n",
       "   </g>\n",
       "   <g id=\"patch_6\">\n",
       "    <path d=\"M 30.103125 7.2 \n",
       "L 225.403125 7.2 \n",
       "\" style=\"fill: none; stroke: #000000; stroke-width: 0.8; stroke-linejoin: miter; stroke-linecap: square\"/>\n",
       "   </g>\n",
       "   <g id=\"legend_1\">\n",
       "    <g id=\"patch_7\">\n",
       "     <path d=\"M 140.634375 59.234375 \n",
       "L 218.403125 59.234375 \n",
       "Q 220.403125 59.234375 220.403125 57.234375 \n",
       "L 220.403125 14.2 \n",
       "Q 220.403125 12.2 218.403125 12.2 \n",
       "L 140.634375 12.2 \n",
       "Q 138.634375 12.2 138.634375 14.2 \n",
       "L 138.634375 57.234375 \n",
       "Q 138.634375 59.234375 140.634375 59.234375 \n",
       "z\n",
       "\" style=\"fill: #ffffff; opacity: 0.8; stroke: #cccccc; stroke-linejoin: miter\"/>\n",
       "    </g>\n",
       "    <g id=\"line2d_24\">\n",
       "     <path d=\"M 142.634375 20.298438 \n",
       "L 152.634375 20.298438 \n",
       "L 162.634375 20.298438 \n",
       "\" style=\"fill: none; stroke: #1f77b4; stroke-width: 1.5; stroke-linecap: square\"/>\n",
       "    </g>\n",
       "    <g id=\"text_12\">\n",
       "     <!-- train loss -->\n",
       "     <g transform=\"translate(170.634375 23.798438) scale(0.1 -0.1)\">\n",
       "      <defs>\n",
       "       <path id=\"DejaVuSans-74\" d=\"M 1172 4494 \n",
       "L 1172 3500 \n",
       "L 2356 3500 \n",
       "L 2356 3053 \n",
       "L 1172 3053 \n",
       "L 1172 1153 \n",
       "Q 1172 725 1289 603 \n",
       "Q 1406 481 1766 481 \n",
       "L 2356 481 \n",
       "L 2356 0 \n",
       "L 1766 0 \n",
       "Q 1100 0 847 248 \n",
       "Q 594 497 594 1153 \n",
       "L 594 3053 \n",
       "L 172 3053 \n",
       "L 172 3500 \n",
       "L 594 3500 \n",
       "L 594 4494 \n",
       "L 1172 4494 \n",
       "z\n",
       "\" transform=\"scale(0.015625)\"/>\n",
       "       <path id=\"DejaVuSans-72\" d=\"M 2631 2963 \n",
       "Q 2534 3019 2420 3045 \n",
       "Q 2306 3072 2169 3072 \n",
       "Q 1681 3072 1420 2755 \n",
       "Q 1159 2438 1159 1844 \n",
       "L 1159 0 \n",
       "L 581 0 \n",
       "L 581 3500 \n",
       "L 1159 3500 \n",
       "L 1159 2956 \n",
       "Q 1341 3275 1631 3429 \n",
       "Q 1922 3584 2338 3584 \n",
       "Q 2397 3584 2469 3576 \n",
       "Q 2541 3569 2628 3553 \n",
       "L 2631 2963 \n",
       "z\n",
       "\" transform=\"scale(0.015625)\"/>\n",
       "       <path id=\"DejaVuSans-61\" d=\"M 2194 1759 \n",
       "Q 1497 1759 1228 1600 \n",
       "Q 959 1441 959 1056 \n",
       "Q 959 750 1161 570 \n",
       "Q 1363 391 1709 391 \n",
       "Q 2188 391 2477 730 \n",
       "Q 2766 1069 2766 1631 \n",
       "L 2766 1759 \n",
       "L 2194 1759 \n",
       "z\n",
       "M 3341 1997 \n",
       "L 3341 0 \n",
       "L 2766 0 \n",
       "L 2766 531 \n",
       "Q 2569 213 2275 61 \n",
       "Q 1981 -91 1556 -91 \n",
       "Q 1019 -91 701 211 \n",
       "Q 384 513 384 1019 \n",
       "Q 384 1609 779 1909 \n",
       "Q 1175 2209 1959 2209 \n",
       "L 2766 2209 \n",
       "L 2766 2266 \n",
       "Q 2766 2663 2505 2880 \n",
       "Q 2244 3097 1772 3097 \n",
       "Q 1472 3097 1187 3025 \n",
       "Q 903 2953 641 2809 \n",
       "L 641 3341 \n",
       "Q 956 3463 1253 3523 \n",
       "Q 1550 3584 1831 3584 \n",
       "Q 2591 3584 2966 3190 \n",
       "Q 3341 2797 3341 1997 \n",
       "z\n",
       "\" transform=\"scale(0.015625)\"/>\n",
       "       <path id=\"DejaVuSans-69\" d=\"M 603 3500 \n",
       "L 1178 3500 \n",
       "L 1178 0 \n",
       "L 603 0 \n",
       "L 603 3500 \n",
       "z\n",
       "M 603 4863 \n",
       "L 1178 4863 \n",
       "L 1178 4134 \n",
       "L 603 4134 \n",
       "L 603 4863 \n",
       "z\n",
       "\" transform=\"scale(0.015625)\"/>\n",
       "       <path id=\"DejaVuSans-6e\" d=\"M 3513 2113 \n",
       "L 3513 0 \n",
       "L 2938 0 \n",
       "L 2938 2094 \n",
       "Q 2938 2591 2744 2837 \n",
       "Q 2550 3084 2163 3084 \n",
       "Q 1697 3084 1428 2787 \n",
       "Q 1159 2491 1159 1978 \n",
       "L 1159 0 \n",
       "L 581 0 \n",
       "L 581 3500 \n",
       "L 1159 3500 \n",
       "L 1159 2956 \n",
       "Q 1366 3272 1645 3428 \n",
       "Q 1925 3584 2291 3584 \n",
       "Q 2894 3584 3203 3211 \n",
       "Q 3513 2838 3513 2113 \n",
       "z\n",
       "\" transform=\"scale(0.015625)\"/>\n",
       "       <path id=\"DejaVuSans-20\" transform=\"scale(0.015625)\"/>\n",
       "       <path id=\"DejaVuSans-6c\" d=\"M 603 4863 \n",
       "L 1178 4863 \n",
       "L 1178 0 \n",
       "L 603 0 \n",
       "L 603 4863 \n",
       "z\n",
       "\" transform=\"scale(0.015625)\"/>\n",
       "       <path id=\"DejaVuSans-73\" d=\"M 2834 3397 \n",
       "L 2834 2853 \n",
       "Q 2591 2978 2328 3040 \n",
       "Q 2066 3103 1784 3103 \n",
       "Q 1356 3103 1142 2972 \n",
       "Q 928 2841 928 2578 \n",
       "Q 928 2378 1081 2264 \n",
       "Q 1234 2150 1697 2047 \n",
       "L 1894 2003 \n",
       "Q 2506 1872 2764 1633 \n",
       "Q 3022 1394 3022 966 \n",
       "Q 3022 478 2636 193 \n",
       "Q 2250 -91 1575 -91 \n",
       "Q 1294 -91 989 -36 \n",
       "Q 684 19 347 128 \n",
       "L 347 722 \n",
       "Q 666 556 975 473 \n",
       "Q 1284 391 1588 391 \n",
       "Q 1994 391 2212 530 \n",
       "Q 2431 669 2431 922 \n",
       "Q 2431 1156 2273 1281 \n",
       "Q 2116 1406 1581 1522 \n",
       "L 1381 1569 \n",
       "Q 847 1681 609 1914 \n",
       "Q 372 2147 372 2553 \n",
       "Q 372 3047 722 3315 \n",
       "Q 1072 3584 1716 3584 \n",
       "Q 2034 3584 2315 3537 \n",
       "Q 2597 3491 2834 3397 \n",
       "z\n",
       "\" transform=\"scale(0.015625)\"/>\n",
       "      </defs>\n",
       "      <use xlink:href=\"#DejaVuSans-74\"/>\n",
       "      <use xlink:href=\"#DejaVuSans-72\" x=\"39.208984\"/>\n",
       "      <use xlink:href=\"#DejaVuSans-61\" x=\"80.322266\"/>\n",
       "      <use xlink:href=\"#DejaVuSans-69\" x=\"141.601562\"/>\n",
       "      <use xlink:href=\"#DejaVuSans-6e\" x=\"169.384766\"/>\n",
       "      <use xlink:href=\"#DejaVuSans-20\" x=\"232.763672\"/>\n",
       "      <use xlink:href=\"#DejaVuSans-6c\" x=\"264.550781\"/>\n",
       "      <use xlink:href=\"#DejaVuSans-6f\" x=\"292.333984\"/>\n",
       "      <use xlink:href=\"#DejaVuSans-73\" x=\"353.515625\"/>\n",
       "      <use xlink:href=\"#DejaVuSans-73\" x=\"405.615234\"/>\n",
       "     </g>\n",
       "    </g>\n",
       "    <g id=\"line2d_25\">\n",
       "     <path d=\"M 142.634375 34.976563 \n",
       "L 152.634375 34.976563 \n",
       "L 162.634375 34.976563 \n",
       "\" style=\"fill: none; stroke-dasharray: 5.55,2.4; stroke-dashoffset: 0; stroke: #bf00bf; stroke-width: 1.5\"/>\n",
       "    </g>\n",
       "    <g id=\"text_13\">\n",
       "     <!-- train acc -->\n",
       "     <g transform=\"translate(170.634375 38.476563) scale(0.1 -0.1)\">\n",
       "      <use xlink:href=\"#DejaVuSans-74\"/>\n",
       "      <use xlink:href=\"#DejaVuSans-72\" x=\"39.208984\"/>\n",
       "      <use xlink:href=\"#DejaVuSans-61\" x=\"80.322266\"/>\n",
       "      <use xlink:href=\"#DejaVuSans-69\" x=\"141.601562\"/>\n",
       "      <use xlink:href=\"#DejaVuSans-6e\" x=\"169.384766\"/>\n",
       "      <use xlink:href=\"#DejaVuSans-20\" x=\"232.763672\"/>\n",
       "      <use xlink:href=\"#DejaVuSans-61\" x=\"264.550781\"/>\n",
       "      <use xlink:href=\"#DejaVuSans-63\" x=\"325.830078\"/>\n",
       "      <use xlink:href=\"#DejaVuSans-63\" x=\"380.810547\"/>\n",
       "     </g>\n",
       "    </g>\n",
       "    <g id=\"line2d_26\">\n",
       "     <path d=\"M 142.634375 49.654688 \n",
       "L 152.634375 49.654688 \n",
       "L 162.634375 49.654688 \n",
       "\" style=\"fill: none; stroke-dasharray: 9.6,2.4,1.5,2.4; stroke-dashoffset: 0; stroke: #008000; stroke-width: 1.5\"/>\n",
       "    </g>\n",
       "    <g id=\"text_14\">\n",
       "     <!-- test acc -->\n",
       "     <g transform=\"translate(170.634375 53.154688) scale(0.1 -0.1)\">\n",
       "      <use xlink:href=\"#DejaVuSans-74\"/>\n",
       "      <use xlink:href=\"#DejaVuSans-65\" x=\"39.208984\"/>\n",
       "      <use xlink:href=\"#DejaVuSans-73\" x=\"100.732422\"/>\n",
       "      <use xlink:href=\"#DejaVuSans-74\" x=\"152.832031\"/>\n",
       "      <use xlink:href=\"#DejaVuSans-20\" x=\"192.041016\"/>\n",
       "      <use xlink:href=\"#DejaVuSans-61\" x=\"223.828125\"/>\n",
       "      <use xlink:href=\"#DejaVuSans-63\" x=\"285.107422\"/>\n",
       "      <use xlink:href=\"#DejaVuSans-63\" x=\"340.087891\"/>\n",
       "     </g>\n",
       "    </g>\n",
       "   </g>\n",
       "  </g>\n",
       " </g>\n",
       " <defs>\n",
       "  <clipPath id=\"pf5cedb3133\">\n",
       "   <rect x=\"30.103125\" y=\"7.2\" width=\"195.3\" height=\"138.6\"/>\n",
       "  </clipPath>\n",
       " </defs>\n",
       "</svg>\n"
      ],
      "text/plain": [
       "<Figure size 350x250 with 1 Axes>"
      ]
     },
     "metadata": {},
     "output_type": "display_data"
    }
   ],
   "source": [
    "lr, num_epochs = 0.9, 10\n",
    "train_ch6(net, train_iter, test_iter, num_epochs, lr, d2l.try_gpu())"
   ]
  },
  {
   "cell_type": "code",
   "execution_count": null,
   "id": "23632c50-278f-41f1-8dcc-e496fb18f03e",
   "metadata": {},
   "outputs": [],
   "source": []
  }
 ],
 "metadata": {
  "kernelspec": {
   "display_name": "Python 3 (ipykernel)",
   "language": "python",
   "name": "python3"
  },
  "language_info": {
   "codemirror_mode": {
    "name": "ipython",
    "version": 3
   },
   "file_extension": ".py",
   "mimetype": "text/x-python",
   "name": "python",
   "nbconvert_exporter": "python",
   "pygments_lexer": "ipython3",
   "version": "3.11.7"
  }
 },
 "nbformat": 4,
 "nbformat_minor": 5
}
